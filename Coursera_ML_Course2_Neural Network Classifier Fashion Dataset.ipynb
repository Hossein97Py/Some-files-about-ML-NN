{
  "nbformat": 4,
  "nbformat_minor": 0,
  "metadata": {
    "colab": {
      "provenance": [],
      "authorship_tag": "ABX9TyPBNq6EmbP2XO24yt1ZwpU5",
      "include_colab_link": true
    },
    "kernelspec": {
      "name": "python3",
      "display_name": "Python 3"
    },
    "language_info": {
      "name": "python"
    }
  },
  "cells": [
    {
      "cell_type": "markdown",
      "metadata": {
        "id": "view-in-github",
        "colab_type": "text"
      },
      "source": [
        "<a href=\"https://colab.research.google.com/github/Hossein97Py/Coursera_Course2/blob/main/Neural%20Network%20Classifier%20Fashion%20Dataset.ipynb\" target=\"_parent\"><img src=\"https://colab.research.google.com/assets/colab-badge.svg\" alt=\"Open In Colab\"/></a>"
      ]
    },
    {
      "cell_type": "markdown",
      "source": [
        "###Dataset\n",
        "For this tutorial we will use the MNIST Fashion Dataset. This is a dataset that is included in keras.\n",
        "\n",
        "This dataset includes 60,000 images for training and 10,000 images for validation/testing."
      ],
      "metadata": {
        "id": "bLzgaAzEz5s4"
      }
    },
    {
      "cell_type": "markdown",
      "source": [
        "# Know the Data"
      ],
      "metadata": {
        "id": "Zauzaq6s5TTY"
      }
    },
    {
      "cell_type": "code",
      "source": [
        "# TensorFlow and tf.keras\n",
        "import tensorflow as tf\n",
        "from tensorflow import keras\n",
        "\n",
        "# Helper libraries\n",
        "import numpy as np\n",
        "import matplotlib.pyplot as plt"
      ],
      "metadata": {
        "id": "2XQ-Jf9MzyZG"
      },
      "execution_count": 1,
      "outputs": []
    },
    {
      "cell_type": "code",
      "source": [
        "# load dataset\n",
        "fashion_mnist = keras.datasets.fashion_mnist  \n",
        "# split into tetsing and training\n",
        "(train_images, train_labels), (test_images, test_labels) = fashion_mnist.load_data() "
      ],
      "metadata": {
        "id": "dD62K43w0CxZ",
        "outputId": "4c5ff296-b195-4d83-cd5f-1b0e75f6670f",
        "colab": {
          "base_uri": "https://localhost:8080/"
        }
      },
      "execution_count": 2,
      "outputs": [
        {
          "output_type": "stream",
          "name": "stdout",
          "text": [
            "Downloading data from https://storage.googleapis.com/tensorflow/tf-keras-datasets/train-labels-idx1-ubyte.gz\n",
            "32768/29515 [=================================] - 0s 0us/step\n",
            "40960/29515 [=========================================] - 0s 0us/step\n",
            "Downloading data from https://storage.googleapis.com/tensorflow/tf-keras-datasets/train-images-idx3-ubyte.gz\n",
            "26427392/26421880 [==============================] - 0s 0us/step\n",
            "26435584/26421880 [==============================] - 0s 0us/step\n",
            "Downloading data from https://storage.googleapis.com/tensorflow/tf-keras-datasets/t10k-labels-idx1-ubyte.gz\n",
            "16384/5148 [===============================================================================================] - 0s 0us/step\n",
            "Downloading data from https://storage.googleapis.com/tensorflow/tf-keras-datasets/t10k-images-idx3-ubyte.gz\n",
            "4423680/4422102 [==============================] - 0s 0us/step\n",
            "4431872/4422102 [==============================] - 0s 0us/step\n"
          ]
        }
      ]
    },
    {
      "cell_type": "code",
      "source": [
        "train_images.shape"
      ],
      "metadata": {
        "id": "uamxx1no0Vj8",
        "outputId": "269a3c33-486f-4871-e01c-b01dc58a7a14",
        "colab": {
          "base_uri": "https://localhost:8080/"
        }
      },
      "execution_count": 5,
      "outputs": [
        {
          "output_type": "execute_result",
          "data": {
            "text/plain": [
              "(60000, 28, 28)"
            ]
          },
          "metadata": {},
          "execution_count": 5
        }
      ]
    },
    {
      "cell_type": "markdown",
      "source": [
        "شصت هزار عکس که هر عکس ابعادش 28 پیکسل در 28 پیکسل هست"
      ],
      "metadata": {
        "id": "p_rAT5ps0wts"
      }
    },
    {
      "cell_type": "code",
      "source": [
        "train_images[45, :, :]"
      ],
      "metadata": {
        "id": "ae-D1zBd0eFg",
        "outputId": "02ade742-39b1-44ed-c350-0e3986dbd166",
        "colab": {
          "base_uri": "https://localhost:8080/"
        }
      },
      "execution_count": 7,
      "outputs": [
        {
          "output_type": "execute_result",
          "data": {
            "text/plain": [
              "array([[  0,   0,   0,   1,   0,   0,   0,   0,   0,  34, 148, 202, 107,\n",
              "         84, 162, 198,  90,  26,   0,   0,   0,   0,   0,   0,   0,   0,\n",
              "          0,   0],\n",
              "       [  0,   0,   0,   0,   0,   0,  21, 107, 166, 168, 152, 204, 238,\n",
              "        248, 237, 190, 142, 178, 158,  98,  17,   0,   0,   0,   0,   0,\n",
              "          0,   0],\n",
              "       [  0,   0,   0,   1,   0,  55, 188, 140, 131, 121, 119, 116, 146,\n",
              "        157, 132, 115, 136, 125, 140, 143, 181,  51,   0,   0,   0,   0,\n",
              "          0,   0],\n",
              "       [  0,   0,   0,   0,   0, 167, 134, 113, 130, 134, 140, 132, 125,\n",
              "        125, 131, 135, 130, 133, 131, 115, 135, 163,   6,   0,   0,   0,\n",
              "          0,   0],\n",
              "       [  0,   0,   0,   0,  58, 148, 133, 124, 134, 128, 135, 128, 133,\n",
              "        130, 133, 137, 138, 130, 124, 130, 133, 147,  82,   0,   1,   0,\n",
              "          0,   0],\n",
              "       [  0,   0,   0,   0,  86, 148, 158, 139, 124, 120, 131, 134, 132,\n",
              "        134, 124, 134, 132, 137, 126, 137, 136, 146, 114,   0,   0,   0,\n",
              "          0,   0],\n",
              "       [  0,   0,   0,   0, 112, 141, 174, 143, 117, 134, 130, 128, 131,\n",
              "        136, 134, 128, 128, 131, 106, 187, 149, 147, 143,   0,   0,   0,\n",
              "          0,   0],\n",
              "       [  0,   0,   0,   0, 134, 151, 167, 154, 114, 134, 138, 139, 135,\n",
              "        135, 130, 130, 124, 129, 119, 229, 141, 145, 164,   0,   0,   0,\n",
              "          0,   0],\n",
              "       [  0,   0,   0,   0, 136, 154, 169, 157, 109, 147, 140, 137, 137,\n",
              "        136, 142, 141, 139, 129, 123, 201, 146, 138, 172,  21,   0,   0,\n",
              "          0,   0],\n",
              "       [  0,   0,   0,   0, 145, 158, 171, 175, 111, 136, 145, 136, 135,\n",
              "        138, 137, 143, 146, 140, 122, 184, 167, 136, 170,  58,   0,   0,\n",
              "          0,   0],\n",
              "       [  0,   0,   0,   0, 151, 155, 189, 183, 120, 135, 132, 136, 135,\n",
              "        133, 128, 130, 134, 120, 153, 230, 156, 135, 167,  83,   0,   0,\n",
              "          0,   0],\n",
              "       [  0,   0,   0,   1, 166, 151, 208, 175, 116, 142, 144, 138, 149,\n",
              "        133, 131, 137, 140, 119, 126, 206, 198, 141, 166, 101,   0,   0,\n",
              "          0,   0],\n",
              "       [  0,   0,   0,   6, 169, 146, 237, 187, 104, 131, 136, 149, 147,\n",
              "        137, 137, 137, 132, 137, 113, 166, 206, 151, 162, 126,   0,   0,\n",
              "          0,   0],\n",
              "       [  0,   0,   0,  20, 180, 136, 231, 214, 105, 134, 140, 139, 136,\n",
              "        137, 136, 148, 134, 149, 111, 139, 255, 151, 158, 147,   0,   0,\n",
              "          0,   0],\n",
              "       [  0,   0,   0,  33, 184, 109, 217, 182, 105, 124, 143, 131, 135,\n",
              "        137, 139, 138, 131, 142, 132,  99, 249, 162, 157, 172,   0,   0,\n",
              "          0,   0],\n",
              "       [  0,   0,   0,  35, 180, 112, 233, 143, 109, 133, 145, 146, 142,\n",
              "        142, 139, 141, 135, 141, 152, 101, 205, 163, 154, 170,   0,   0,\n",
              "          0,   0],\n",
              "       [  0,   0,   0,  42, 183, 123, 217, 117, 126, 137, 140, 134, 137,\n",
              "        135, 143, 141, 133, 133, 149, 107, 166, 176, 153, 169,  14,   0,\n",
              "          0,   0],\n",
              "       [  0,   0,   0,  48, 175, 147, 210, 101, 119, 136, 142, 137, 142,\n",
              "        139, 147, 142, 146, 126, 138, 102, 131, 197, 161, 183,  32,   0,\n",
              "          0,   0],\n",
              "       [  0,   0,   0,  56, 165, 163, 213,  74, 126, 138, 149, 133, 133,\n",
              "        132, 141, 134, 142, 132, 132, 126, 117, 193, 162, 172,  39,   0,\n",
              "          0,   0],\n",
              "       [  0,   0,   0,  62, 157, 165, 227,  39, 135, 138, 136, 142, 146,\n",
              "        143, 136, 138, 134, 141, 134, 116,  78, 197, 171, 156,  44,   0,\n",
              "          0,   0],\n",
              "       [  0,   0,   0,  65, 162, 169, 245,  39, 140, 133, 133, 128, 132,\n",
              "        134, 143, 145, 134, 133, 134, 128,  36, 208, 172, 151,  55,   0,\n",
              "          0,   0],\n",
              "       [  0,   0,   0,  72, 147, 168, 244,  25, 142, 137, 138, 133, 128,\n",
              "        132, 147, 145, 135, 136, 133, 131,  26, 207, 173, 149,  67,   0,\n",
              "          0,   0],\n",
              "       [  0,   0,   0,  68, 153, 179, 250,  11, 135, 134, 139, 133, 136,\n",
              "        140, 140, 143, 145, 140, 131, 126,  32, 207, 175, 136,  73,   0,\n",
              "          0,   0],\n",
              "       [  0,   0,   0,  61, 155, 180, 252,  23, 151, 132, 131, 133, 133,\n",
              "        129, 135, 140, 132, 139, 132, 139,  38, 221, 174, 135,  77,   0,\n",
              "          0,   0],\n",
              "       [  0,   0,   0,  18, 147, 187, 185,   3, 173, 153, 151, 150, 153,\n",
              "        150, 150, 153, 148, 151, 146, 161,   4, 184, 175, 136,  37,   0,\n",
              "          0,   0],\n",
              "       [  0,   0,   0,   0, 150, 204,  76,   0, 213, 165, 167, 170, 172,\n",
              "        171, 169, 170, 172, 167, 160, 202,   0, 107, 196, 152,   0,   0,\n",
              "          0,   0],\n",
              "       [  0,   0,   0,   0, 123, 162,  41,   2, 153, 124, 133, 136, 141,\n",
              "        135, 132, 134, 139, 144, 141, 132,   0,  67, 153, 142,   0,   0,\n",
              "          0,   0],\n",
              "       [  0,   0,   0,   0,   0,   0,   0,   0,   0,   0,   0,   0,   0,\n",
              "          0,   0,   0,   0,   0,   0,   0,   0,   0,   0,   0,   0,   0,\n",
              "          0,   0]], dtype=uint8)"
            ]
          },
          "metadata": {},
          "execution_count": 7
        }
      ]
    },
    {
      "cell_type": "code",
      "source": [
        "train_labels.shape\n"
      ],
      "metadata": {
        "id": "wD_iHphl1Hz5",
        "outputId": "5b93e738-4d5d-4096-a580-c899f75a6c6d",
        "colab": {
          "base_uri": "https://localhost:8080/"
        }
      },
      "execution_count": 9,
      "outputs": [
        {
          "output_type": "execute_result",
          "data": {
            "text/plain": [
              "(60000,)"
            ]
          },
          "metadata": {},
          "execution_count": 9
        }
      ]
    },
    {
      "cell_type": "code",
      "source": [
        "train_labels[:10]"
      ],
      "metadata": {
        "id": "jtLcFxr91bKb",
        "outputId": "c47c48a3-ddd3-4cbb-a831-5dbd383055bb",
        "colab": {
          "base_uri": "https://localhost:8080/"
        }
      },
      "execution_count": 11,
      "outputs": [
        {
          "output_type": "execute_result",
          "data": {
            "text/plain": [
              "array([9, 0, 0, 3, 0, 2, 7, 2, 5, 5], dtype=uint8)"
            ]
          },
          "metadata": {},
          "execution_count": 11
        }
      ]
    },
    {
      "cell_type": "markdown",
      "source": [
        "لیبل‌ها شامل اعدادی بین 0 تا 9 هستند که هر عدد نشان‌دهنده یک نوع پوشیدنی هست. یک آرایه میسازیم که بفهمیم چی به چیه"
      ],
      "metadata": {
        "id": "XwJ8pQ9r4dXp"
      }
    },
    {
      "cell_type": "code",
      "source": [
        "class_names = ['T-shirt/top', 'Trouser', 'Pullover', 'Dress', 'Coat',\n",
        "               'Sandal', 'Shirt', 'Sneaker', 'Bag', 'Ankle boot']"
      ],
      "metadata": {
        "id": "n4QQfpcA4OI7"
      },
      "execution_count": 12,
      "outputs": []
    },
    {
      "cell_type": "markdown",
      "source": [
        "حالا به بعضی از این عکسها نگاه کنیم"
      ],
      "metadata": {
        "id": "uNwJ326C45UL"
      }
    },
    {
      "cell_type": "code",
      "source": [
        "plt.figure()\n",
        "plt.imshow(train_images[45])\n",
        "plt.colorbar()\n",
        "plt.grid(False)\n",
        "plt.show()"
      ],
      "metadata": {
        "id": "Kx-l-H9g41MN",
        "outputId": "32f88ff7-ada5-4488-a124-11f5a3652dc2",
        "colab": {
          "base_uri": "https://localhost:8080/",
          "height": 269
        }
      },
      "execution_count": 31,
      "outputs": [
        {
          "output_type": "display_data",
          "data": {
            "text/plain": [
              "<Figure size 432x288 with 2 Axes>"
            ],
            "image/png": "[encoded data removed]"
          },
          "metadata": {
            "needs_background": "light"
          }
        }
      ]
    },
    {
      "cell_type": "code",
      "source": [],
      "metadata": {
        "id": "ZxGIxoF55BzV"
      },
      "execution_count": null,
      "outputs": []
    },
    {
      "cell_type": "markdown",
      "source": [
        "# Data Preprocessing"
      ],
      "metadata": {
        "id": "uMRKQcon5f2n"
      }
    },
    {
      "cell_type": "markdown",
      "source": [
        "در اینجا مرحله پیش پردازش صرفا شامل نرمال کردن اعداد شدت پیکسل ها هست. بین صفر و یک نرمال میکنیم که محاسبات سریعتر باشه"
      ],
      "metadata": {
        "id": "Bhkbso1WMT0Y"
      }
    },
    {
      "cell_type": "code",
      "source": [
        "train_images = train_images / 255.0\n",
        "\n",
        "test_images = test_images / 255.0"
      ],
      "metadata": {
        "id": "v_uxKsdCMO7O"
      },
      "execution_count": 18,
      "outputs": []
    },
    {
      "cell_type": "markdown",
      "source": [
        "# Building the Model"
      ],
      "metadata": {
        "id": "h2QGnqyvMeZp"
      }
    },
    {
      "cell_type": "markdown",
      "source": [
        "اینجا از مدل ترتیبی کراس استفاده میکنیم . مدل شبکه عصبی هست با سه لایه.\n",
        "\n",
        " This model represents a feed-forward neural network (one that passes values from left to right)"
      ],
      "metadata": {
        "id": "16y4BKgSM1jZ"
      }
    },
    {
      "cell_type": "code",
      "source": [
        "model = keras.Sequential([\n",
        "    keras.layers.Flatten(input_shape=(28, 28)),  # input layer (1)\n",
        "    keras.layers.Dense(128, activation='relu'),  # hidden layer (2)\n",
        "    keras.layers.Dense(10, activation='softmax') # output layer (3)\n",
        "])"
      ],
      "metadata": {
        "id": "6f6Cb-BIMcfP"
      },
      "execution_count": 20,
      "outputs": []
    },
    {
      "cell_type": "markdown",
      "source": [
        "مدل مون سه لایه هست \n",
        "\n",
        "> لایه اولش لایه ورودی میشه اون فلتن باعث میشه ورودی رو به صورت وکتور دربیاره که میشه 784 نورون. هر پیکسل با یک نورون اسوشییت میشه\n",
        "\n",
        "\n",
        "\n",
        "> لایه دوم لایه مخفی هست . دنس یعنی این لایه کاملا کانکت هست و هر نورون لایه قبلی به تمام نورون های این لایه متصله. اینجا 128 نورون داریم اکتیویشن فانکشن هم  rectify linear unit هست\n",
        "\n",
        "\n",
        "\n",
        "> لایه سوم لایه خروجی هست که 10 تا نورون داره که خروجی مدل رو مشخص میکنه . هر نورون مشخص میکنه احتمال اینکه یک عکس مال هر کدوم از کلاس لباس ها باشه چقدره\n",
        "The activation function softmax is used on this layer to calculate a probabillity distribution for each class. This means the value of any neuron in this layer will be between 0 and 1, where 1 represents a high probabillity of the image being that class.\n",
        "\n",
        "\n",
        "\n",
        "\n",
        "\n"
      ],
      "metadata": {
        "id": "tMx8nMmPN0Ql"
      }
    },
    {
      "cell_type": "markdown",
      "source": [
        "# Compile the Model"
      ],
      "metadata": {
        "id": "ZdDFY65-Rl6L"
      }
    },
    {
      "cell_type": "markdown",
      "source": [
        "The last step in building the model is to define the loss function, optimizer and metrics we would like to track. I won't go into detail about why we chose each of these right now."
      ],
      "metadata": {
        "id": "Oj5t8DTvRuO6"
      }
    },
    {
      "cell_type": "code",
      "source": [
        "model.compile(optimizer='adam',\n",
        "              loss='sparse_categorical_crossentropy',\n",
        "              metrics=['accuracy'])"
      ],
      "metadata": {
        "id": "QZlnUQQ1Nu_O"
      },
      "execution_count": 21,
      "outputs": []
    },
    {
      "cell_type": "markdown",
      "source": [
        "# Training the Model"
      ],
      "metadata": {
        "id": "dNzcPMpbSCzG"
      }
    },
    {
      "cell_type": "markdown",
      "source": [
        "Now it's finally time to train the model. Since we've already done all the work on our data this step is as easy as calling a single method."
      ],
      "metadata": {
        "id": "NN3wrzmsSH6S"
      }
    },
    {
      "cell_type": "code",
      "source": [
        "# we pass the data, labels and epochs and watch the magic!\n",
        "model.fit(train_images, train_labels, epochs=10)  "
      ],
      "metadata": {
        "id": "dbp7yxBZSIdI",
        "outputId": "25464b2a-158e-4799-f32a-56a038174fc2",
        "colab": {
          "base_uri": "https://localhost:8080/"
        }
      },
      "execution_count": 23,
      "outputs": [
        {
          "output_type": "stream",
          "name": "stdout",
          "text": [
            "Epoch 1/10\n",
            "1875/1875 [==============================] - 6s 3ms/step - loss: 0.4961 - accuracy: 0.8261\n",
            "Epoch 2/10\n",
            "1875/1875 [==============================] - 5s 3ms/step - loss: 0.3756 - accuracy: 0.8646\n",
            "Epoch 3/10\n",
            "1875/1875 [==============================] - 5s 3ms/step - loss: 0.3358 - accuracy: 0.8774\n",
            "Epoch 4/10\n",
            "1875/1875 [==============================] - 5s 3ms/step - loss: 0.3131 - accuracy: 0.8849\n",
            "Epoch 5/10\n",
            "1875/1875 [==============================] - 5s 3ms/step - loss: 0.2961 - accuracy: 0.8900\n",
            "Epoch 6/10\n",
            "1875/1875 [==============================] - 5s 3ms/step - loss: 0.2793 - accuracy: 0.8970\n",
            "Epoch 7/10\n",
            "1875/1875 [==============================] - 5s 3ms/step - loss: 0.2666 - accuracy: 0.9002\n",
            "Epoch 8/10\n",
            "1875/1875 [==============================] - 5s 3ms/step - loss: 0.2571 - accuracy: 0.9046\n",
            "Epoch 9/10\n",
            "1875/1875 [==============================] - 5s 3ms/step - loss: 0.2466 - accuracy: 0.9079\n",
            "Epoch 10/10\n",
            "1875/1875 [==============================] - 5s 3ms/step - loss: 0.2369 - accuracy: 0.9109\n"
          ]
        },
        {
          "output_type": "execute_result",
          "data": {
            "text/plain": [
              "<keras.callbacks.History at 0x7fa78c2e4890>"
            ]
          },
          "metadata": {},
          "execution_count": 23
        }
      ]
    },
    {
      "cell_type": "markdown",
      "source": [
        "# Evaluating the Model"
      ],
      "metadata": {
        "id": "sH6l8612SiZT"
      }
    },
    {
      "cell_type": "markdown",
      "source": [
        "Now it's time to test/evaluate the model. We can do this quite easily using another builtin method from keras.\n",
        "\n",
        "The verbose argument is defined from the keras documentation as: \"verbose: 0 or 1. Verbosity mode. 0 = silent, 1 = progress bar.\""
      ],
      "metadata": {
        "id": "XFUlvze9Sy5s"
      }
    },
    {
      "cell_type": "code",
      "source": [
        "test_loss, test_acc = model.evaluate(test_images,  test_labels, verbose=1) \n",
        "\n",
        "print('Test accuracy:', test_acc)"
      ],
      "metadata": {
        "id": "N3n3GnfHSLH_",
        "outputId": "f57a4c21-eaff-4860-f5d5-5688e27788e4",
        "colab": {
          "base_uri": "https://localhost:8080/"
        }
      },
      "execution_count": 24,
      "outputs": [
        {
          "output_type": "stream",
          "name": "stdout",
          "text": [
            "313/313 [==============================] - 2s 3ms/step - loss: 0.3407 - accuracy: 0.8787\n",
            "Test accuracy: 0.8787000179290771\n"
          ]
        }
      ]
    },
    {
      "cell_type": "markdown",
      "source": [
        "# Making Predictions"
      ],
      "metadata": {
        "id": "6mwIWgXkTHJK"
      }
    },
    {
      "cell_type": "markdown",
      "source": [
        "برای پیش بینی و استفاده از مدل یک آرایه به فرمی که مشخص کرده بودیم از دیتا به مدل میدیم "
      ],
      "metadata": {
        "id": "NfIxhP5gTKuR"
      }
    },
    {
      "cell_type": "code",
      "source": [
        "predictions = model.predict(test_images)"
      ],
      "metadata": {
        "id": "aSrmJpUUS2AH"
      },
      "execution_count": 25,
      "outputs": []
    },
    {
      "cell_type": "code",
      "source": [
        "predictions[0]"
      ],
      "metadata": {
        "id": "6ZHAG-EcUP0r",
        "outputId": "777a48a7-db3f-4fe3-eed3-ff9116e1f35b",
        "colab": {
          "base_uri": "https://localhost:8080/"
        }
      },
      "execution_count": 26,
      "outputs": [
        {
          "output_type": "execute_result",
          "data": {
            "text/plain": [
              "array([2.5522653e-09, 2.0438616e-11, 9.7511004e-09, 5.8150831e-11,\n",
              "       3.8241449e-10, 1.3038322e-03, 5.2562442e-08, 2.3791434e-03,\n",
              "       1.3577367e-08, 9.9631691e-01], dtype=float32)"
            ]
          },
          "metadata": {},
          "execution_count": 26
        }
      ]
    },
    {
      "cell_type": "markdown",
      "source": [
        "که خوب دیدیم بیشترین احتمال برای کلاس دهم هست که انکل بوت بود. تو شکل هم همینه"
      ],
      "metadata": {
        "id": "ahFAz6FRUdJ-"
      }
    },
    {
      "cell_type": "code",
      "source": [
        "class_names[9]"
      ],
      "metadata": {
        "id": "Us-08bVCUTkA",
        "outputId": "9e9e86b9-5594-4366-fb54-a8da307ffa1e",
        "colab": {
          "base_uri": "https://localhost:8080/",
          "height": 36
        }
      },
      "execution_count": 30,
      "outputs": [
        {
          "output_type": "execute_result",
          "data": {
            "text/plain": [
              "'Ankle boot'"
            ],
            "application/vnd.google.colaboratory.intrinsic+json": {
              "type": "string"
            }
          },
          "metadata": {},
          "execution_count": 30
        }
      ]
    },
    {
      "cell_type": "code",
      "source": [
        "plt.figure()\n",
        "plt.imshow(train_images[0])\n",
        "plt.colorbar()\n",
        "plt.grid(False)\n",
        "plt.show()"
      ],
      "metadata": {
        "id": "iA94mzQ3UqT_",
        "outputId": "251cc3e6-4d6d-4ce6-8735-f717560912a4",
        "colab": {
          "base_uri": "https://localhost:8080/",
          "height": 269
        }
      },
      "execution_count": 32,
      "outputs": [
        {
          "output_type": "display_data",
          "data": {
            "text/plain": [
              "<Figure size 432x288 with 2 Axes>"
            ],
            "image/png": "[encoded data removed]"
          },
          "metadata": {
            "needs_background": "light"
          }
        }
      ]
    },
    {
      "cell_type": "markdown",
      "source": [
        "البته اینکار رو هم میشه کرد:"
      ],
      "metadata": {
        "id": "fcOQCUsBU9Fn"
      }
    },
    {
      "cell_type": "code",
      "source": [
        "np.argmax(predictions[0]) "
      ],
      "metadata": {
        "id": "7u4wUbFoUznA",
        "outputId": "61e06ba2-8904-4992-b407-187584e52c35",
        "colab": {
          "base_uri": "https://localhost:8080/"
        }
      },
      "execution_count": 33,
      "outputs": [
        {
          "output_type": "execute_result",
          "data": {
            "text/plain": [
              "9"
            ]
          },
          "metadata": {},
          "execution_count": 33
        }
      ]
    },
    {
      "cell_type": "code",
      "source": [
        "test_labels[0]"
      ],
      "metadata": {
        "id": "5CR868IgVA2p",
        "outputId": "6cb2d1d8-becf-4344-da5b-28f23905d1c9",
        "colab": {
          "base_uri": "https://localhost:8080/"
        }
      },
      "execution_count": 34,
      "outputs": [
        {
          "output_type": "execute_result",
          "data": {
            "text/plain": [
              "9"
            ]
          },
          "metadata": {},
          "execution_count": 34
        }
      ]
    },
    {
      "cell_type": "markdown",
      "source": [
        "THE END \n",
        "\n",
        "1401-06-25"
      ],
      "metadata": {
        "id": "-TlTOIt_VfSa"
      }
    }
  ]
}